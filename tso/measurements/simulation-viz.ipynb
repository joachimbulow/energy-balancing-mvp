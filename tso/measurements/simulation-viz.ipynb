{
 "cells": [
  {
   "cell_type": "code",
   "execution_count": 15,
   "metadata": {},
   "outputs": [],
   "source": [
    "import matplotlib.pyplot as plt\n",
    "import numpy as np"
   ]
  },
  {
   "cell_type": "code",
   "execution_count": 16,
   "metadata": {},
   "outputs": [],
   "source": [
    "import csv\n",
    "\n",
    "\n",
    "def getSimulationData(file_path):    \n",
    "    data = []\n",
    "    with open(file_path, 'r') as csvfile:\n",
    "        reader = csv.reader(csvfile)\n",
    "        \n",
    "        for row in reader:\n",
    "            # Convert numeric values to appropriate types if needed\n",
    "            values = row\n",
    "            time = int(values[0])\n",
    "            batteryPods = int(values[1])\n",
    "            nBatteries = int(values[2])\n",
    "            averageFrequency = float(values[3])\n",
    "            medianFrequency = float(values[4])\n",
    "            frequencyStdDev = float(values[5])\n",
    "            maxFrequency = float(values[6])\n",
    "            minFrequency = float(values[7])\n",
    "            chargeSum = int(values[8])\n",
    "            dischargeSum = int(values[9])\n",
    "            \n",
    "            # Create a tuple with the values and append it to the data list\n",
    "            data.append((time, batteryPods, nBatteries, averageFrequency, medianFrequency, frequencyStdDev,\n",
    "                         maxFrequency, minFrequency, chargeSum, dischargeSum))\n",
    "    \n",
    "        return data"
   ]
  },
  {
   "cell_type": "code",
   "execution_count": 17,
   "metadata": {},
   "outputs": [],
   "source": [
    "def plotSimulation(file_path):\n",
    "    data = getSimulationData(file_path)\n",
    "    battery_n_batteries = [(d[1] * d[2]) for d in data]\n",
    "    average_frequency = [d[3] for d in data]\n",
    "    frequency_std_dev = [d[5] for d in data]\n",
    "    max_frequency = [d[6] for d in data]\n",
    "    min_frequency = [d[7] for d in data]\n",
    "    \n",
    "    # Plot Average Frequency\n",
    "    plt.figure(figsize=(10, 6))\n",
    "    plt.plot(battery_n_batteries, average_frequency)\n",
    "    plt.xlabel('Total number of batteries')\n",
    "    plt.ylabel('Average Frequency')\n",
    "    plt.title('Average Frequency')\n",
    "    plt.show()\n",
    "    \n",
    "    # Plot Frequency Std Dev\n",
    "    plt.figure(figsize=(10, 6))\n",
    "    plt.plot(battery_n_batteries, frequency_std_dev)\n",
    "    plt.xlabel('Battery Pods * Number of Batteries')\n",
    "    plt.ylabel('Frequency Std Dev')\n",
    "    plt.title('Frequency Std Dev')\n",
    "    plt.show()\n",
    "    \n",
    "    # Plot Max Frequency\n",
    "    plt.figure(figsize=(10, 6))\n",
    "    plt.plot(battery_n_batteries, max_frequency)\n",
    "    plt.xlabel('Battery Pods * Number of Batteries')\n",
    "    plt.ylabel('Max Frequency')\n",
    "    plt.title('Max Frequency')\n",
    "    plt.show()\n",
    "    \n",
    "    # Plot Min Frequency\n",
    "    plt.figure(figsize=(10, 6))\n",
    "    plt.plot(battery_n_batteries, min_frequency)\n",
    "    plt.xlabel('Battery Pods * Number of Batteries')\n",
    "    plt.ylabel('Min Frequency')\n",
    "    plt.title('Min Frequency')\n",
    "    plt.show()"
   ]
  },
  {
   "cell_type": "code",
   "execution_count": 18,
   "metadata": {},
   "outputs": [
    {
     "ename": "TypeError",
     "evalue": "'int' object is not subscriptable",
     "output_type": "error",
     "traceback": [
      "\u001b[0;31m---------------------------------------------------------------------------\u001b[0m",
      "\u001b[0;31mTypeError\u001b[0m                                 Traceback (most recent call last)",
      "Cell \u001b[0;32mIn[18], line 2\u001b[0m\n\u001b[1;32m      1\u001b[0m file_path \u001b[39m=\u001b[39m \u001b[39m'\u001b[39m\u001b[39m./simulations1.csv\u001b[39m\u001b[39m'\u001b[39m\n\u001b[0;32m----> 2\u001b[0m plotSimulation(file_path)\n",
      "Cell \u001b[0;32mIn[17], line 3\u001b[0m, in \u001b[0;36mplotSimulation\u001b[0;34m(file_path)\u001b[0m\n\u001b[1;32m      1\u001b[0m \u001b[39mdef\u001b[39;00m \u001b[39mplotSimulation\u001b[39m(file_path):\n\u001b[1;32m      2\u001b[0m     data \u001b[39m=\u001b[39m getSimulationData(file_path)\n\u001b[0;32m----> 3\u001b[0m     battery_n_batteries \u001b[39m=\u001b[39m [(d[\u001b[39m1\u001b[39m] \u001b[39m*\u001b[39m d[\u001b[39m2\u001b[39m]) \u001b[39mfor\u001b[39;00m d \u001b[39min\u001b[39;00m data]\n\u001b[1;32m      4\u001b[0m     average_frequency \u001b[39m=\u001b[39m [d[\u001b[39m3\u001b[39m] \u001b[39mfor\u001b[39;00m d \u001b[39min\u001b[39;00m data]\n\u001b[1;32m      5\u001b[0m     frequency_std_dev \u001b[39m=\u001b[39m [d[\u001b[39m5\u001b[39m] \u001b[39mfor\u001b[39;00m d \u001b[39min\u001b[39;00m data]\n",
      "Cell \u001b[0;32mIn[17], line 3\u001b[0m, in \u001b[0;36m<listcomp>\u001b[0;34m(.0)\u001b[0m\n\u001b[1;32m      1\u001b[0m \u001b[39mdef\u001b[39;00m \u001b[39mplotSimulation\u001b[39m(file_path):\n\u001b[1;32m      2\u001b[0m     data \u001b[39m=\u001b[39m getSimulationData(file_path)\n\u001b[0;32m----> 3\u001b[0m     battery_n_batteries \u001b[39m=\u001b[39m [(d[\u001b[39m1\u001b[39;49m] \u001b[39m*\u001b[39m d[\u001b[39m2\u001b[39m]) \u001b[39mfor\u001b[39;00m d \u001b[39min\u001b[39;00m data]\n\u001b[1;32m      4\u001b[0m     average_frequency \u001b[39m=\u001b[39m [d[\u001b[39m3\u001b[39m] \u001b[39mfor\u001b[39;00m d \u001b[39min\u001b[39;00m data]\n\u001b[1;32m      5\u001b[0m     frequency_std_dev \u001b[39m=\u001b[39m [d[\u001b[39m5\u001b[39m] \u001b[39mfor\u001b[39;00m d \u001b[39min\u001b[39;00m data]\n",
      "\u001b[0;31mTypeError\u001b[0m: 'int' object is not subscriptable"
     ]
    }
   ],
   "source": [
    "file_path = './simulations1.csv'\n",
    "plotSimulation(file_path)\n"
   ]
  }
 ],
 "metadata": {
  "kernelspec": {
   "display_name": ".venv",
   "language": "python",
   "name": "python3"
  },
  "language_info": {
   "codemirror_mode": {
    "name": "ipython",
    "version": 3
   },
   "file_extension": ".py",
   "mimetype": "text/x-python",
   "name": "python",
   "nbconvert_exporter": "python",
   "pygments_lexer": "ipython3",
   "version": "3.9.13"
  },
  "orig_nbformat": 4
 },
 "nbformat": 4,
 "nbformat_minor": 2
}
